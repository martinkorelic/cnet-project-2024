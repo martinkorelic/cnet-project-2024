{
 "cells": [
  {
   "cell_type": "markdown",
   "metadata": {},
   "source": [
    "## Random Walk Clustering Demo"
   ]
  },
  {
   "cell_type": "code",
   "execution_count": 3,
   "metadata": {},
   "outputs": [],
   "source": [
    "# IMPORTS\n",
    "\n",
    "from cnet.graph import CNetGraph\n",
    "from cnet.data.db import CNetDatabase"
   ]
  },
  {
   "cell_type": "code",
   "execution_count": 7,
   "metadata": {},
   "outputs": [
    {
     "data": {
      "text/plain": [
       "['point',\n",
       " 'knowledge',\n",
       " 'action',\n",
       " 'word',\n",
       " 'body',\n",
       " 'form',\n",
       " 'judge',\n",
       " 'idea',\n",
       " 'group',\n",
       " 'place',\n",
       " 'state',\n",
       " 'account',\n",
       " 'meaning',\n",
       " 'inspiration',\n",
       " 'justiciary',\n",
       " 'pattern',\n",
       " 'person',\n",
       " 'thing',\n",
       " 'object',\n",
       " 'intelligence']"
      ]
     },
     "execution_count": 7,
     "metadata": {},
     "output_type": "execute_result"
    }
   ],
   "source": [
    "# Adjust Weights for Edge Types\n",
    "edge_type_filter = {\n",
    "    'RelatedTo' : 0.5, #we want to prioritize this one\n",
    "    'PartOf' : 0.5,\n",
    "    'IsA' : 0.5,\n",
    "    'HasA' : 0.5,\n",
    "    'UsedFor' : 0.5,\n",
    "    'AtLocation' : 0.5,\n",
    "    'CapableOf': 0.5,\n",
    "    'Causes' : 0.5,\n",
    "    'DerivedFrom' : 0.5,\n",
    "    'HasProperty': 0.5,\n",
    "    'MotivatedByGoal' : 0.5,\n",
    "    'ObstructedBy' : 0.5,\n",
    "    'Desires' : 0.5,\n",
    "    'CreatedBy' : 0.5,\n",
    "    'Antonym' : 0.5,\n",
    "    'MannerOf' : 0.5,\n",
    "    'SimilarTo' : 0.5,\n",
    "    'MadeOf' : 0.5,\n",
    "    'RecivesAction' : 0.5,\n",
    "    'Synonym' : 0.5\n",
    "}\n",
    "\n",
    "# Run the Algorithm (directed)\n",
    "db = CNetDatabase()\n",
    "local_graph = CNetGraph(db)\n",
    "g = local_graph.load_from_file('graphdata/information_dir.graphml')\n",
    "local_graph.random_walk_clustering(graph=g, root='information', etf=edge_type_filter, \n",
    "                                   walks_per_node=10_000, walk_length=50, top_k=20)"
   ]
  }
 ],
 "metadata": {
  "kernelspec": {
   "display_name": "base",
   "language": "python",
   "name": "python3"
  },
  "language_info": {
   "codemirror_mode": {
    "name": "ipython",
    "version": 3
   },
   "file_extension": ".py",
   "mimetype": "text/x-python",
   "name": "python",
   "nbconvert_exporter": "python",
   "pygments_lexer": "ipython3",
   "version": "3.11.1"
  }
 },
 "nbformat": 4,
 "nbformat_minor": 2
}
