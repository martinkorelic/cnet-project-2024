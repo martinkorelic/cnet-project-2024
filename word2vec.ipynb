{
 "cells": [
  {
   "cell_type": "code",
   "execution_count": 1,
   "metadata": {},
   "outputs": [],
   "source": [
    "from cnet.graph import CNetGraph\n",
    "from cnet.data.db import CNetDatabase"
   ]
  },
  {
   "cell_type": "code",
   "execution_count": 2,
   "metadata": {},
   "outputs": [],
   "source": [
    "edge_type_filter = { # We have to change the weights\n",
    "    'RelatedTo' : 0.5, \n",
    "    'PartOf' : 0.5,\n",
    "    'IsA' : 0.5,\n",
    "    'HasA' : 0.5,\n",
    "    'UsedFor' : 0.5,\n",
    "    'AtLocation' : 0.5,\n",
    "    'CapableOf': 0.5,\n",
    "    'Causes' : 0.5,\n",
    "    'DerivedFrom' : 0.5,\n",
    "    'HasProperty': 0.5,\n",
    "    'MotivatedByGoal' : 0.5,\n",
    "    'ObstructedBy' : 0.5,\n",
    "    'Desires' : 0.5,\n",
    "    'CreatedBy' : 0.5,\n",
    "    'Antonym' : 0.5,\n",
    "    'MannerOf' : 0.5,\n",
    "    'SimilarTo' : 0.5,\n",
    "    'MadeOf' : 0.5,\n",
    "    'RecivesAction' : 0.5,\n",
    "    'Synonym' : 0.5\n",
    "}\n",
    "\n",
    "db = CNetDatabase()\n",
    "local_graph = CNetGraph(db)\n",
    "#Change the address of file\n",
    "g = local_graph.load_from_file('/Users/yoojinpark/Desktop/cnet-project-2024/graphdata/information_dir.graphml')"
   ]
  },
  {
   "cell_type": "code",
   "execution_count": 3,
   "metadata": {},
   "outputs": [],
   "source": [
    "local_graph.set_graph(g)"
   ]
  },
  {
   "cell_type": "code",
   "execution_count": 5,
   "metadata": {},
   "outputs": [
    {
     "name": "stdout",
     "output_type": "stream",
     "text": [
      "[('inform', 0.8112709522247314), ('entropy', 0.7934914827346802), ('info', 0.7852822542190552), ('conventions', 0.7841594815254211), ('unambiguous', 0.7762970924377441), ('informing', 0.6836260557174683), ('forming', 0.6583422422409058), ('know', 0.6414926648139954), ('secret', 0.5789268016815186), ('magistrate', 0.5399932861328125), ('believing', 0.5243887305259705), ('organs', 0.5187743902206421), ('accuse', 0.5025445818901062), ('foodstuff', 0.5023177266120911), ('incriminate', 0.5012602806091309), ('parameter', 0.4965336322784424), ('animating', 0.49170294404029846), ('telephone', 0.49119681119918823), ('inanimate', 0.48985791206359863), ('scale', 0.48915910720825195)]\n"
     ]
    }
   ],
   "source": [
    "walks = []\n",
    "for _ in range(10000):\n",
    "    walk = local_graph.random_walk(g, 'information', 50, etf=edge_type_filter)\n",
    "    walks.append(walk)\n",
    "word2vec_model = local_graph.train_word2vec_model(walks)\n",
    "print(word2vec_model.wv.most_similar('information', topn=20))"
   ]
  }
 ],
 "metadata": {
  "kernelspec": {
   "display_name": "cnet",
   "language": "python",
   "name": "cnet"
  },
  "language_info": {
   "codemirror_mode": {
    "name": "ipython",
    "version": 3
   },
   "file_extension": ".py",
   "mimetype": "text/x-python",
   "name": "python",
   "nbconvert_exporter": "python",
   "pygments_lexer": "ipython3",
   "version": "3.10.3"
  },
  "orig_nbformat": 4
 },
 "nbformat": 4,
 "nbformat_minor": 2
}
